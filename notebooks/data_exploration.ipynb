{
 "cells": [
  {
   "cell_type": "code",
   "execution_count": 1378,
   "metadata": {},
   "outputs": [],
   "source": [
    "import pandas as pd\n",
    "import numpy as np\n",
    "import librosa\n",
    "import matplotlib.pyplot as plt"
   ]
  },
  {
   "cell_type": "markdown",
   "metadata": {},
   "source": [
    "## 1. Data exploration"
   ]
  },
  {
   "cell_type": "code",
   "execution_count": 1379,
   "metadata": {},
   "outputs": [],
   "source": [
    "df_dev = pd.read_csv('/Users/fabiodepetro/DSL_Project/ProvaProgetto/DSL_Winter_Project_2025/development.csv')\n",
    "df_eval = pd.read_csv('/Users/fabiodepetro/DSL_Project/ProvaProgetto/DSL_Winter_Project_2025/evaluation.csv')"
   ]
  },
  {
   "cell_type": "code",
   "execution_count": 1380,
   "metadata": {},
   "outputs": [
    {
     "data": {
      "text/plain": [
       "(2933, 691, 3624)"
      ]
     },
     "execution_count": 1380,
     "metadata": {},
     "output_type": "execute_result"
    }
   ],
   "source": [
    "df = pd.concat([df_dev, df_eval], sort=False)\n",
    "len(df_dev), len(df_eval), len(df)"
   ]
  },
  {
   "cell_type": "code",
   "execution_count": 1381,
   "metadata": {},
   "outputs": [
    {
     "data": {
      "text/plain": [
       "691"
      ]
     },
     "execution_count": 1381,
     "metadata": {},
     "output_type": "execute_result"
    }
   ],
   "source": [
    "df.isna().sum().sum() "
   ]
  },
  {
   "cell_type": "markdown",
   "metadata": {},
   "source": [
    "only the 'age' values on the evaluation dataframe are NaN so there are no NaN to handle"
   ]
  },
  {
   "cell_type": "code",
   "execution_count": 1382,
   "metadata": {},
   "outputs": [
    {
     "data": {
      "text/html": [
       "<div>\n",
       "<style scoped>\n",
       "    .dataframe tbody tr th:only-of-type {\n",
       "        vertical-align: middle;\n",
       "    }\n",
       "\n",
       "    .dataframe tbody tr th {\n",
       "        vertical-align: top;\n",
       "    }\n",
       "\n",
       "    .dataframe thead th {\n",
       "        text-align: right;\n",
       "    }\n",
       "</style>\n",
       "<table border=\"1\" class=\"dataframe\">\n",
       "  <thead>\n",
       "    <tr style=\"text-align: right;\">\n",
       "      <th></th>\n",
       "      <th>Id</th>\n",
       "      <th>sampling_rate</th>\n",
       "      <th>age</th>\n",
       "      <th>gender</th>\n",
       "      <th>ethnicity</th>\n",
       "      <th>mean_pitch</th>\n",
       "      <th>max_pitch</th>\n",
       "      <th>min_pitch</th>\n",
       "      <th>jitter</th>\n",
       "      <th>shimmer</th>\n",
       "      <th>energy</th>\n",
       "      <th>zcr_mean</th>\n",
       "      <th>spectral_centroid_mean</th>\n",
       "      <th>tempo</th>\n",
       "      <th>hnr</th>\n",
       "      <th>num_words</th>\n",
       "      <th>num_characters</th>\n",
       "      <th>num_pauses</th>\n",
       "      <th>silence_duration</th>\n",
       "      <th>path</th>\n",
       "    </tr>\n",
       "  </thead>\n",
       "  <tbody>\n",
       "    <tr>\n",
       "      <th>0</th>\n",
       "      <td>0</td>\n",
       "      <td>22050</td>\n",
       "      <td>24.0</td>\n",
       "      <td>female</td>\n",
       "      <td>arabic</td>\n",
       "      <td>1821.6906</td>\n",
       "      <td>3999.7170</td>\n",
       "      <td>145.43066</td>\n",
       "      <td>0.013795</td>\n",
       "      <td>0.082725</td>\n",
       "      <td>0.002254</td>\n",
       "      <td>0.210093</td>\n",
       "      <td>3112.257251</td>\n",
       "      <td>[151.99908088]</td>\n",
       "      <td>-123.999726</td>\n",
       "      <td>69</td>\n",
       "      <td>281</td>\n",
       "      <td>39</td>\n",
       "      <td>23.846893</td>\n",
       "      <td>audios_development/1.wav</td>\n",
       "    </tr>\n",
       "    <tr>\n",
       "      <th>1</th>\n",
       "      <td>1</td>\n",
       "      <td>22050</td>\n",
       "      <td>22.5</td>\n",
       "      <td>female</td>\n",
       "      <td>hungarian</td>\n",
       "      <td>1297.8187</td>\n",
       "      <td>3998.8590</td>\n",
       "      <td>145.37268</td>\n",
       "      <td>0.025349</td>\n",
       "      <td>0.096242</td>\n",
       "      <td>0.007819</td>\n",
       "      <td>0.078849</td>\n",
       "      <td>1688.016389</td>\n",
       "      <td>[129.19921875]</td>\n",
       "      <td>-86.928478</td>\n",
       "      <td>69</td>\n",
       "      <td>281</td>\n",
       "      <td>21</td>\n",
       "      <td>19.388662</td>\n",
       "      <td>audios_development/2.wav</td>\n",
       "    </tr>\n",
       "    <tr>\n",
       "      <th>2</th>\n",
       "      <td>2</td>\n",
       "      <td>22050</td>\n",
       "      <td>22.0</td>\n",
       "      <td>female</td>\n",
       "      <td>portuguese</td>\n",
       "      <td>1332.8524</td>\n",
       "      <td>3998.8025</td>\n",
       "      <td>145.42395</td>\n",
       "      <td>0.019067</td>\n",
       "      <td>0.119456</td>\n",
       "      <td>0.002974</td>\n",
       "      <td>0.105365</td>\n",
       "      <td>2576.901706</td>\n",
       "      <td>[117.45383523]</td>\n",
       "      <td>-98.450670</td>\n",
       "      <td>69</td>\n",
       "      <td>281</td>\n",
       "      <td>1</td>\n",
       "      <td>21.640998</td>\n",
       "      <td>audios_development/3.wav</td>\n",
       "    </tr>\n",
       "    <tr>\n",
       "      <th>3</th>\n",
       "      <td>3</td>\n",
       "      <td>22050</td>\n",
       "      <td>22.0</td>\n",
       "      <td>female</td>\n",
       "      <td>english</td>\n",
       "      <td>1430.3499</td>\n",
       "      <td>3998.4510</td>\n",
       "      <td>147.98083</td>\n",
       "      <td>0.017004</td>\n",
       "      <td>0.102389</td>\n",
       "      <td>0.022371</td>\n",
       "      <td>0.173701</td>\n",
       "      <td>3269.751413</td>\n",
       "      <td>[117.45383523]</td>\n",
       "      <td>-56.459762</td>\n",
       "      <td>69</td>\n",
       "      <td>281</td>\n",
       "      <td>9</td>\n",
       "      <td>19.644127</td>\n",
       "      <td>audios_development/4.wav</td>\n",
       "    </tr>\n",
       "    <tr>\n",
       "      <th>4</th>\n",
       "      <td>4</td>\n",
       "      <td>22050</td>\n",
       "      <td>22.0</td>\n",
       "      <td>male</td>\n",
       "      <td>dutch</td>\n",
       "      <td>1688.7234</td>\n",
       "      <td>3998.6113</td>\n",
       "      <td>145.44772</td>\n",
       "      <td>0.028027</td>\n",
       "      <td>0.124831</td>\n",
       "      <td>0.005369</td>\n",
       "      <td>0.107279</td>\n",
       "      <td>1930.897375</td>\n",
       "      <td>[112.34714674]</td>\n",
       "      <td>-80.349204</td>\n",
       "      <td>69</td>\n",
       "      <td>281</td>\n",
       "      <td>11</td>\n",
       "      <td>18.041905</td>\n",
       "      <td>audios_development/5.wav</td>\n",
       "    </tr>\n",
       "  </tbody>\n",
       "</table>\n",
       "</div>"
      ],
      "text/plain": [
       "   Id  sampling_rate   age  gender   ethnicity  mean_pitch  max_pitch  \\\n",
       "0   0          22050  24.0  female      arabic   1821.6906  3999.7170   \n",
       "1   1          22050  22.5  female   hungarian   1297.8187  3998.8590   \n",
       "2   2          22050  22.0  female  portuguese   1332.8524  3998.8025   \n",
       "3   3          22050  22.0  female     english   1430.3499  3998.4510   \n",
       "4   4          22050  22.0    male       dutch   1688.7234  3998.6113   \n",
       "\n",
       "   min_pitch    jitter   shimmer    energy  zcr_mean  spectral_centroid_mean  \\\n",
       "0  145.43066  0.013795  0.082725  0.002254  0.210093             3112.257251   \n",
       "1  145.37268  0.025349  0.096242  0.007819  0.078849             1688.016389   \n",
       "2  145.42395  0.019067  0.119456  0.002974  0.105365             2576.901706   \n",
       "3  147.98083  0.017004  0.102389  0.022371  0.173701             3269.751413   \n",
       "4  145.44772  0.028027  0.124831  0.005369  0.107279             1930.897375   \n",
       "\n",
       "            tempo         hnr  num_words  num_characters  num_pauses  \\\n",
       "0  [151.99908088] -123.999726         69             281          39   \n",
       "1  [129.19921875]  -86.928478         69             281          21   \n",
       "2  [117.45383523]  -98.450670         69             281           1   \n",
       "3  [117.45383523]  -56.459762         69             281           9   \n",
       "4  [112.34714674]  -80.349204         69             281          11   \n",
       "\n",
       "   silence_duration                      path  \n",
       "0         23.846893  audios_development/1.wav  \n",
       "1         19.388662  audios_development/2.wav  \n",
       "2         21.640998  audios_development/3.wav  \n",
       "3         19.644127  audios_development/4.wav  \n",
       "4         18.041905  audios_development/5.wav  "
      ]
     },
     "execution_count": 1382,
     "metadata": {},
     "output_type": "execute_result"
    }
   ],
   "source": [
    "df.head()"
   ]
  },
  {
   "cell_type": "code",
   "execution_count": 1383,
   "metadata": {},
   "outputs": [
    {
     "data": {
      "text/plain": [
       "Index(['Id', 'sampling_rate', 'age', 'gender', 'ethnicity', 'mean_pitch',\n",
       "       'max_pitch', 'min_pitch', 'jitter', 'shimmer', 'energy', 'zcr_mean',\n",
       "       'spectral_centroid_mean', 'tempo', 'hnr', 'num_words', 'num_characters',\n",
       "       'num_pauses', 'silence_duration', 'path'],\n",
       "      dtype='object')"
      ]
     },
     "execution_count": 1383,
     "metadata": {},
     "output_type": "execute_result"
    }
   ],
   "source": [
    "df.columns"
   ]
  },
  {
   "cell_type": "code",
   "execution_count": 1384,
   "metadata": {},
   "outputs": [],
   "source": [
    "def extract_6_digits(s):\n",
    "  s = s.replace('[', \"\") \n",
    "  parts = s.split('.')\n",
    "  decimale = parts[1][:6] \n",
    "  return float(parts[0] + '.' + decimale)\n",
    "\n",
    "\n",
    "df['tempo'] = df['tempo'].apply(extract_6_digits)\n",
    "df['tempo'] = pd.to_numeric(df['tempo'])\n",
    "df['tempo'] = df['tempo'] / 60 # convert in beats per second"
   ]
  },
  {
   "cell_type": "markdown",
   "metadata": {},
   "source": [
    "There are 2 categorical columns = ['gender','ethnicity'] that we need to convert them in numerical values if we want to use them in the regression task."
   ]
  },
  {
   "cell_type": "code",
   "execution_count": 1385,
   "metadata": {},
   "outputs": [
    {
     "data": {
      "text/plain": [
       "Index(['Id', 'sampling_rate', 'age', 'ethnicity', 'mean_pitch', 'max_pitch',\n",
       "       'min_pitch', 'jitter', 'shimmer', 'energy', 'zcr_mean',\n",
       "       'spectral_centroid_mean', 'tempo', 'hnr', 'num_words', 'num_characters',\n",
       "       'num_pauses', 'silence_duration', 'path', 'gender_famale',\n",
       "       'gender_female', 'gender_male'],\n",
       "      dtype='object')"
      ]
     },
     "execution_count": 1385,
     "metadata": {},
     "output_type": "execute_result"
    }
   ],
   "source": [
    "df_1h_gender = pd.get_dummies(df, columns=['gender'])\n",
    "df_1h_gender.columns"
   ]
  },
  {
   "cell_type": "markdown",
   "metadata": {},
   "source": [
    "There is 1 row that has 'famale' instead of having 'female' so we have to correct it."
   ]
  },
  {
   "cell_type": "code",
   "execution_count": 1386,
   "metadata": {},
   "outputs": [
    {
     "data": {
      "text/html": [
       "<div>\n",
       "<style scoped>\n",
       "    .dataframe tbody tr th:only-of-type {\n",
       "        vertical-align: middle;\n",
       "    }\n",
       "\n",
       "    .dataframe tbody tr th {\n",
       "        vertical-align: top;\n",
       "    }\n",
       "\n",
       "    .dataframe thead th {\n",
       "        text-align: right;\n",
       "    }\n",
       "</style>\n",
       "<table border=\"1\" class=\"dataframe\">\n",
       "  <thead>\n",
       "    <tr style=\"text-align: right;\">\n",
       "      <th></th>\n",
       "      <th>Id</th>\n",
       "      <th>sampling_rate</th>\n",
       "      <th>age</th>\n",
       "      <th>gender</th>\n",
       "      <th>ethnicity</th>\n",
       "      <th>mean_pitch</th>\n",
       "      <th>max_pitch</th>\n",
       "      <th>min_pitch</th>\n",
       "      <th>jitter</th>\n",
       "      <th>shimmer</th>\n",
       "      <th>energy</th>\n",
       "      <th>zcr_mean</th>\n",
       "      <th>spectral_centroid_mean</th>\n",
       "      <th>tempo</th>\n",
       "      <th>hnr</th>\n",
       "      <th>num_words</th>\n",
       "      <th>num_characters</th>\n",
       "      <th>num_pauses</th>\n",
       "      <th>silence_duration</th>\n",
       "      <th>path</th>\n",
       "    </tr>\n",
       "  </thead>\n",
       "  <tbody>\n",
       "    <tr>\n",
       "      <th>454</th>\n",
       "      <td>454</td>\n",
       "      <td>22050</td>\n",
       "      <td>NaN</td>\n",
       "      <td>famale</td>\n",
       "      <td>taiwanese</td>\n",
       "      <td>1051.0619</td>\n",
       "      <td>3997.4036</td>\n",
       "      <td>145.44014</td>\n",
       "      <td>0.022114</td>\n",
       "      <td>0.084117</td>\n",
       "      <td>0.003421</td>\n",
       "      <td>0.106298</td>\n",
       "      <td>2073.085801</td>\n",
       "      <td>2.533318</td>\n",
       "      <td>-108.084637</td>\n",
       "      <td>69</td>\n",
       "      <td>281</td>\n",
       "      <td>46</td>\n",
       "      <td>29.466122</td>\n",
       "      <td>audios_evaluation/455.wav</td>\n",
       "    </tr>\n",
       "  </tbody>\n",
       "</table>\n",
       "</div>"
      ],
      "text/plain": [
       "      Id  sampling_rate  age  gender  ethnicity  mean_pitch  max_pitch  \\\n",
       "454  454          22050  NaN  famale  taiwanese   1051.0619  3997.4036   \n",
       "\n",
       "     min_pitch    jitter   shimmer    energy  zcr_mean  \\\n",
       "454  145.44014  0.022114  0.084117  0.003421  0.106298   \n",
       "\n",
       "     spectral_centroid_mean     tempo         hnr  num_words  num_characters  \\\n",
       "454             2073.085801  2.533318 -108.084637         69             281   \n",
       "\n",
       "     num_pauses  silence_duration                       path  \n",
       "454          46         29.466122  audios_evaluation/455.wav  "
      ]
     },
     "execution_count": 1386,
     "metadata": {},
     "output_type": "execute_result"
    }
   ],
   "source": [
    "df[df['gender'] == 'famale']"
   ]
  },
  {
   "cell_type": "markdown",
   "metadata": {},
   "source": [
    "Listening the audio in evaluation/455.wav we found this is a female so we put 'female' instead of 'famale'"
   ]
  },
  {
   "cell_type": "code",
   "execution_count": 1387,
   "metadata": {},
   "outputs": [],
   "source": [
    "df.loc[(df['gender']!='male') & (df['gender'] != 'female'), 'gender'] = 'female'\n",
    "df_1h_gender = pd.get_dummies(df, columns=['gender'])"
   ]
  },
  {
   "cell_type": "code",
   "execution_count": 1388,
   "metadata": {},
   "outputs": [
    {
     "data": {
      "text/plain": [
       "Index(['Id', 'sampling_rate', 'age', 'ethnicity', 'mean_pitch', 'max_pitch',\n",
       "       'min_pitch', 'jitter', 'shimmer', 'energy', 'zcr_mean',\n",
       "       'spectral_centroid_mean', 'tempo', 'hnr', 'num_words', 'num_characters',\n",
       "       'num_pauses', 'silence_duration', 'path', 'gender_female',\n",
       "       'gender_male'],\n",
       "      dtype='object')"
      ]
     },
     "execution_count": 1388,
     "metadata": {},
     "output_type": "execute_result"
    }
   ],
   "source": [
    "df_1h_gender.columns"
   ]
  },
  {
   "cell_type": "markdown",
   "metadata": {},
   "source": [
    "Now we go to see how many ethnicities there are in the dataset and how are the distributions of those."
   ]
  },
  {
   "cell_type": "code",
   "execution_count": 1389,
   "metadata": {},
   "outputs": [
    {
     "data": {
      "text/plain": [
       "ethnicity\n",
       "igbo         1313\n",
       "english       579\n",
       "spanish       162\n",
       "arabic        102\n",
       "mandarin       65\n",
       "             ... \n",
       "lamaholot       1\n",
       "gedeo           1\n",
       "sa'a            1\n",
       "frisian         1\n",
       "sundanese       1\n",
       "Name: count, Length: 221, dtype: int64"
      ]
     },
     "execution_count": 1389,
     "metadata": {},
     "output_type": "execute_result"
    }
   ],
   "source": [
    "df['ethnicity'].value_counts()"
   ]
  },
  {
   "cell_type": "code",
   "execution_count": 1390,
   "metadata": {},
   "outputs": [
    {
     "data": {
      "text/plain": [
       "ethnicity\n",
       "igbo         0.362307\n",
       "english      0.159768\n",
       "spanish      0.044702\n",
       "arabic       0.028146\n",
       "mandarin     0.017936\n",
       "               ...   \n",
       "lamaholot    0.000276\n",
       "gedeo        0.000276\n",
       "sa'a         0.000276\n",
       "frisian      0.000276\n",
       "sundanese    0.000276\n",
       "Name: proportion, Length: 221, dtype: float64"
      ]
     },
     "execution_count": 1390,
     "metadata": {},
     "output_type": "execute_result"
    }
   ],
   "source": [
    "df['ethnicity'].value_counts(normalize=True)"
   ]
  },
  {
   "cell_type": "code",
   "execution_count": 1391,
   "metadata": {},
   "outputs": [
    {
     "data": {
      "text/plain": [
       "array([1313,  579,  162,  102,   65,   63,   52,   48,   48,   47,   37,\n",
       "         36,   34,   33,   33,   29,   27,   26,   26,   23,   23,   22,\n",
       "         20,   20,   20,   18,   18,   18,   18,   17,   17,   16,   15,\n",
       "         15,   14,   13,   12,   11,   11,   10,   10,   10,   10,   10,\n",
       "          9,    9,    9,    9,    9,    9,    9,    9,    8,    8,    8,\n",
       "          8,    8,    8,    8,    7,    6,    6,    6,    6,    6,    6,\n",
       "          6,    6,    5,    5,    5,    5,    5,    5,    5,    5,    4,\n",
       "          4,    4,    4,    4,    4,    4,    4,    4,    4,    4,    3,\n",
       "          3,    3,    3,    3,    3,    3,    3,    3,    3,    3,    3,\n",
       "          3,    3,    3,    3,    3,    3,    3,    3,    3,    2,    2,\n",
       "          2,    2,    2,    2,    2,    2,    2,    2,    2,    2,    2,\n",
       "          2,    2,    2,    2,    2,    2,    2,    2,    2,    2,    2,\n",
       "          2,    2,    2,    2,    2,    2,    1,    1,    1,    1,    1,\n",
       "          1,    1,    1,    1,    1,    1,    1,    1,    1,    1,    1,\n",
       "          1,    1,    1,    1,    1,    1,    1,    1,    1,    1,    1,\n",
       "          1,    1,    1,    1,    1,    1,    1,    1,    1,    1,    1,\n",
       "          1,    1,    1,    1,    1,    1,    1,    1,    1,    1,    1,\n",
       "          1,    1,    1,    1,    1,    1,    1,    1,    1,    1,    1,\n",
       "          1,    1,    1,    1,    1,    1,    1,    1,    1,    1,    1,\n",
       "          1,    1,    1,    1,    1,    1,    1,    1,    1,    1,    1,\n",
       "          1])"
      ]
     },
     "execution_count": 1391,
     "metadata": {},
     "output_type": "execute_result"
    }
   ],
   "source": [
    "ethnicity_count = df['ethnicity'].value_counts()\n",
    "ethnicity_count.values"
   ]
  },
  {
   "cell_type": "markdown",
   "metadata": {},
   "source": [
    "The dataset is highly unbalanced on the ethnicity distributions because there are a lot of ethnicity with count = 1 and very few ethnicities have a cardinality > 50."
   ]
  },
  {
   "cell_type": "markdown",
   "metadata": {},
   "source": [
    "There are 221 ethnicities that means that we'll have 221 columns to add to the ones that we have now. \n",
    "We think it's useless to one hot encode all these columns and we decide to keep and encode only the ethnicities which have more than 50 of cardinality and group the others in 'Other' encode."
   ]
  },
  {
   "cell_type": "code",
   "execution_count": 1396,
   "metadata": {},
   "outputs": [],
   "source": [
    "def one_hot_encode_ethnicity(df, ethnicity_column='ethnicity', threshold=50):\n",
    "  ethnicity_counts = df[ethnicity_column].value_counts()\n",
    "  rare_ethnicities = ethnicity_counts[ethnicity_counts < threshold].index\n",
    "  df[ethnicity_column] = df[ethnicity_column].replace(rare_ethnicities, 'Other')\n",
    "  df = pd.get_dummies(df, columns=[ethnicity_column], prefix=ethnicity_column)\n",
    "\n",
    "  return df\n",
    "df_1h = one_hot_encode_ethnicity(df_1h_gender)"
   ]
  },
  {
   "cell_type": "code",
   "execution_count": 1400,
   "metadata": {},
   "outputs": [],
   "source": [
    "columns_to_drop = ['Id', 'sampling_rate', 'path'] # useless for the model\n"
   ]
  },
  {
   "cell_type": "code",
   "execution_count": 1401,
   "metadata": {},
   "outputs": [],
   "source": [
    "df_dropped = df_1h.drop(columns=columns_to_drop)"
   ]
  },
  {
   "cell_type": "markdown",
   "metadata": {},
   "source": [
    "Testing a random forest on these features for see the 1st RMSE try."
   ]
  },
  {
   "cell_type": "code",
   "execution_count": 1402,
   "metadata": {},
   "outputs": [
    {
     "name": "stdout",
     "output_type": "stream",
     "text": [
      "10.067472919659378\n"
     ]
    }
   ],
   "source": [
    "from sklearn.model_selection import train_test_split, cross_val_score\n",
    "from sklearn.ensemble import RandomForestRegressor\n",
    "from sklearn.metrics import root_mean_squared_error\n",
    "\n",
    "train_valid_mask = ~df_dropped['age'].isna()\n",
    "\n",
    "X = df_dropped.drop(columns=['age']).values\n",
    "y = df_dropped['age'].values\n",
    "\n",
    "\n",
    "X_train_valid = X[train_valid_mask]\n",
    "y_train_valid = y[train_valid_mask]\n",
    "\n",
    "X_test = X[~train_valid_mask]\n",
    "\n",
    "\n",
    "X_train, X_valid, y_train, y_valid = train_test_split(X_train_valid, y_train_valid, test_size=0.2, random_state=42)\n",
    "reg = RandomForestRegressor(n_estimators=100, random_state=42)\n",
    "reg.fit(X_train, y_train)\n",
    "y_pred = reg.predict(X_valid)\n",
    "\n",
    "print(root_mean_squared_error(y_valid, y_pred))"
   ]
  },
  {
   "cell_type": "code",
   "execution_count": 1403,
   "metadata": {},
   "outputs": [
    {
     "name": "stdout",
     "output_type": "stream",
     "text": [
      "[ -9.26951462 -10.52463224 -11.03000535 -12.5464358  -10.13193274]\n",
      "-10.700504148791712\n"
     ]
    }
   ],
   "source": [
    "print(cross_val_score(reg, X_valid, y_valid, cv=5, scoring='neg_root_mean_squared_error'))\n",
    "print(np.mean(cross_val_score(reg, X_valid, y_valid, cv=5, scoring='neg_root_mean_squared_error')))"
   ]
  },
  {
   "cell_type": "markdown",
   "metadata": {},
   "source": [
    "Let's think about manipulate the audios we have and use them for extract some other features"
   ]
  },
  {
   "cell_type": "markdown",
   "metadata": {},
   "source": [
    "## 2. Feature Extraction"
   ]
  },
  {
   "cell_type": "code",
   "execution_count": 1493,
   "metadata": {},
   "outputs": [],
   "source": [
    "import pandas as pd\n",
    "path_df = '../datasets/df_features_extracted.csv'\n",
    "df = pd.read_csv(path_df)"
   ]
  },
  {
   "cell_type": "markdown",
   "metadata": {},
   "source": [
    "Application of the preprocessing step for the raw df with the feature extracted"
   ]
  },
  {
   "cell_type": "code",
   "execution_count": 1494,
   "metadata": {},
   "outputs": [],
   "source": [
    "df['tempo'] = df['tempo'].apply(extract_6_digits)\n",
    "df['tempo'] = pd.to_numeric(df['tempo'])\n",
    "df['tempo'] = df['tempo'] / 60"
   ]
  },
  {
   "cell_type": "code",
   "execution_count": 1495,
   "metadata": {},
   "outputs": [],
   "source": [
    "df.loc[(df['gender']!='male') & (df['gender'] != 'female'), 'gender'] = 'female'\n",
    "df_1h = pd.get_dummies(df, columns=['gender'])"
   ]
  },
  {
   "cell_type": "code",
   "execution_count": 1496,
   "metadata": {},
   "outputs": [],
   "source": [
    "def one_hot_encode_ethnicity(df, ethnicity_column='ethnicity', threshold=50):\n",
    "  ethnicity_counts = df[ethnicity_column].value_counts()\n",
    "  rare_ethnicities = ethnicity_counts[ethnicity_counts < threshold].index\n",
    "  df[ethnicity_column] = df[ethnicity_column].replace(rare_ethnicities, 'Other')\n",
    "  df = pd.get_dummies(df, columns=[ethnicity_column], prefix=ethnicity_column)\n",
    "\n",
    "  return df\n",
    "df_1h = one_hot_encode_ethnicity(df_1h)"
   ]
  },
  {
   "cell_type": "code",
   "execution_count": 1497,
   "metadata": {},
   "outputs": [
    {
     "data": {
      "image/png": "[encoded data removed]",
      "text/plain": [
       "<Figure size 800x600 with 2 Axes>"
      ]
     },
     "metadata": {},
     "output_type": "display_data"
    }
   ],
   "source": [
    "import seaborn as sns\n",
    "correlation_matrix = df[['age', 'time_len', 'silence_duration','num_words', 'num_characters']].corr()\n",
    "\n",
    "# Creazione della heatmap\n",
    "plt.figure(figsize=(8, 6))\n",
    "sns.heatmap(correlation_matrix, \n",
    "            annot=True,  \n",
    "            cmap='Blues',  \n",
    "            fmt=\".2f\",  \n",
    "            linewidths=0.5,  \n",
    "            cbar_kws={\"shrink\": 0.8})  \n",
    "\n",
    "plt.title('Correlation Matrix', fontsize=14)\n",
    "plt.xticks(fontsize=10, rotation=45) \n",
    "plt.yticks(fontsize=10, rotation=0)   \n",
    "plt.tight_layout()\n",
    "\n",
    "plt.savefig(\"correlation_matrix.pdf\", dpi=300, bbox_inches='tight')  # Immagine ad alta risoluzione\n",
    "plt.show()"
   ]
  },
  {
   "cell_type": "code",
   "execution_count": 1551,
   "metadata": {},
   "outputs": [
    {
     "data": {
      "text/plain": [
       "23.0"
      ]
     },
     "execution_count": 1551,
     "metadata": {},
     "output_type": "execute_result"
    }
   ],
   "source": [
    "df['age'][~df['age'].isna()].median()"
   ]
  },
  {
   "cell_type": "code",
   "execution_count": 1552,
   "metadata": {},
   "outputs": [
    {
     "data": {
      "text/plain": [
       "13.093315610440829"
      ]
     },
     "execution_count": 1552,
     "metadata": {},
     "output_type": "execute_result"
    }
   ],
   "source": [
    "df['age'][~df['age'].isna()].std()"
   ]
  },
  {
   "cell_type": "code",
   "execution_count": 1553,
   "metadata": {},
   "outputs": [
    {
     "data": {
      "text/plain": [
       "27.897886123423117"
      ]
     },
     "execution_count": 1553,
     "metadata": {},
     "output_type": "execute_result"
    }
   ],
   "source": [
    "df['age'][~df['age'].isna()].mean()"
   ]
  },
  {
   "cell_type": "markdown",
   "metadata": {},
   "source": [
    "We decide to discard num_words, num_characters and silence_duration and keep time_len"
   ]
  },
  {
   "cell_type": "code",
   "execution_count": 1498,
   "metadata": {},
   "outputs": [],
   "source": [
    "columns_to_drop = ['Id', 'sampling_rate', 'path', 'num_words', 'num_characters', 'silence_duration']"
   ]
  },
  {
   "cell_type": "code",
   "execution_count": 1499,
   "metadata": {},
   "outputs": [],
   "source": [
    "df_dropped = df_1h.drop(columns=columns_to_drop)"
   ]
  },
  {
   "cell_type": "markdown",
   "metadata": {},
   "source": [
    "## 3. Feature selection"
   ]
  },
  {
   "cell_type": "code",
   "execution_count": 1500,
   "metadata": {},
   "outputs": [
    {
     "name": "stdout",
     "output_type": "stream",
     "text": [
      "RMSE sul set di validation (senza outliers): 9.705996173092972\n"
     ]
    }
   ],
   "source": [
    "X = df_dropped.drop(columns=['age'])\n",
    "y = df_dropped['age']\n",
    "\n",
    "train_valid_mask = ~df_dropped['age'].isna()\n",
    "feature_names = df_dropped.drop(columns='age').columns\n",
    "\n",
    "X_train_valid = X[train_valid_mask] # dev \n",
    "y_train_valid = y[train_valid_mask]\n",
    "\n",
    "X_test = X[~train_valid_mask] # evaluation\n",
    "\n",
    "X_train, X_valid, y_train, y_valid = train_test_split(X_train_valid, y_train_valid, test_size=0.2, random_state=42, shuffle=True)\n",
    "\n",
    "reg = RandomForestRegressor(random_state = 42, n_estimators=100)\n",
    "reg.fit(X_train, y_train)\n",
    "\n",
    "y_pred = reg.predict(X_valid)\n",
    "rmse_valid = root_mean_squared_error(y_valid, y_pred)\n",
    "print(f\"RMSE sul set di validation (senza outliers): {rmse_valid}\")"
   ]
  },
  {
   "cell_type": "code",
   "execution_count": 1501,
   "metadata": {},
   "outputs": [
    {
     "name": "stdout",
     "output_type": "stream",
     "text": [
      "-10.13863053101376\n"
     ]
    }
   ],
   "source": [
    "from sklearn.model_selection import cross_val_score\n",
    "print(np.mean(cross_val_score(reg, X_valid, y_valid, cv=5, scoring='neg_root_mean_squared_error')))"
   ]
  },
  {
   "cell_type": "markdown",
   "metadata": {},
   "source": [
    "'Important features' is the baseline where we add more features and try to reduce the rmse"
   ]
  },
  {
   "cell_type": "code",
   "execution_count": 1502,
   "metadata": {},
   "outputs": [],
   "source": [
    "sorted_features = sorted(zip(feature_names, reg.feature_importances_), key = lambda x : x[1], reverse=True)\n",
    "\n",
    "important_features = [feature for feature, importance in sorted_features if importance > 0.009]"
   ]
  },
  {
   "cell_type": "code",
   "execution_count": 1503,
   "metadata": {},
   "outputs": [
    {
     "data": {
      "text/plain": [
       "['time_len',\n",
       " 'ethnicity_english',\n",
       " 'Chroma7_median',\n",
       " 'MFCC10_std',\n",
       " 'jitter',\n",
       " 'Chroma6_median',\n",
       " 'Chroma12_std',\n",
       " 'spectral_centroid_mean_x',\n",
       " 'MFCC7_median',\n",
       " 'Chroma6_std',\n",
       " 'MFCC6_mean',\n",
       " 'shimmer']"
      ]
     },
     "execution_count": 1503,
     "metadata": {},
     "output_type": "execute_result"
    }
   ],
   "source": [
    "important_features"
   ]
  },
  {
   "cell_type": "markdown",
   "metadata": {},
   "source": [
    "There is ethnicity english so we decide to reintroduce all the ethnicities to prevent overfitting."
   ]
  },
  {
   "cell_type": "code",
   "execution_count": 1504,
   "metadata": {},
   "outputs": [],
   "source": [
    "important_features = important_features + ['ethnicity_igbo', 'ethnicity_spanish', 'ethnicity_arabic', 'ethnicity_korean', 'ethnicity_mandarin', 'ethnicity_french', 'ethnicity_Other']"
   ]
  },
  {
   "cell_type": "markdown",
   "metadata": {},
   "source": [
    "Then we retry the cross val score using the important features"
   ]
  },
  {
   "cell_type": "code",
   "execution_count": 1505,
   "metadata": {},
   "outputs": [
    {
     "name": "stdout",
     "output_type": "stream",
     "text": [
      "RMSE sul set di validation : 9.508134585523203\n"
     ]
    }
   ],
   "source": [
    "X = df_dropped.drop(columns=['age'])[important_features]\n",
    "y = df_dropped['age']\n",
    "\n",
    "feature_names = df_dropped.drop(columns='age').columns\n",
    "\n",
    "X_train_valid = X[train_valid_mask] # dev \n",
    "y_train_valid = y[train_valid_mask]\n",
    "\n",
    "X_test = X[~train_valid_mask] # evaluation\n",
    "\n",
    "X_train, X_valid, y_train, y_valid = train_test_split(X_train_valid, y_train_valid, test_size=0.2, random_state=42, shuffle=True)\n",
    "\n",
    "reg = RandomForestRegressor(random_state = 42, n_estimators=100)\n",
    "reg.fit(X_train, y_train)\n",
    "\n",
    "y_pred = reg.predict(X_valid)\n",
    "rmse_valid = root_mean_squared_error(y_valid, y_pred)\n",
    "print(f\"RMSE sul set di validation : {rmse_valid}\")"
   ]
  },
  {
   "cell_type": "code",
   "execution_count": 1506,
   "metadata": {},
   "outputs": [
    {
     "name": "stdout",
     "output_type": "stream",
     "text": [
      "-9.88588796949413\n"
     ]
    }
   ],
   "source": [
    "print(np.mean(cross_val_score(reg, X_valid, y_valid, cv=5, scoring='neg_root_mean_squared_error')))"
   ]
  },
  {
   "cell_type": "markdown",
   "metadata": {},
   "source": [
    "Let's find some columns which have low correlation with the features that are in the important features and an high correlation with the target variable and try some combinations of those features for reduce the rmse."
   ]
  },
  {
   "cell_type": "code",
   "execution_count": 1507,
   "metadata": {},
   "outputs": [
    {
     "name": "stdout",
     "output_type": "stream",
     "text": [
      "time_skew       0.337295\n",
      "time_max        0.328943\n",
      "mean_pitch      0.315645\n",
      "MFCC2_mean      0.315057\n",
      "MFCC5_std       0.313383\n",
      "MFCC1_std       0.311292\n",
      "MFCC2_std       0.284386\n",
      "MFCC8_std       0.270458\n",
      "MFCC2_median    0.270423\n",
      "MFCC10_mean     0.260298\n",
      "Name: age, dtype: float64\n"
     ]
    }
   ],
   "source": [
    "def find_top_features(df, important_features, max_correlation_with_important, first_n=10):\n",
    "  corr_matrix = df.corr()\n",
    "\n",
    "  target_corr = np.abs(corr_matrix['age'].drop('age'))  \n",
    "  \n",
    "  candidate_features = target_corr.drop(index=important_features, errors='ignore')\n",
    "  \n",
    "  low_corr_candidates = []\n",
    "  for feature in candidate_features.index:\n",
    "    if all(abs(corr_matrix.loc[feature, imp_feature]) < max_correlation_with_important \n",
    "        for imp_feature in important_features if imp_feature in corr_matrix):\n",
    "      low_corr_candidates.append(feature)\n",
    "  \n",
    "  filtered_features = target_corr.loc[low_corr_candidates].sort_values(ascending=False).head(first_n)\n",
    "  \n",
    "  return filtered_features\n",
    "\n",
    "top_features = find_top_features(df_dropped, important_features=important_features, max_correlation_with_important=0.7, first_n=10)\n",
    "\n",
    "print(top_features)\n"
   ]
  },
  {
   "cell_type": "markdown",
   "metadata": {},
   "source": [
    "Here we can decide how to go on and trying these features (first 4 on the matrix)"
   ]
  },
  {
   "cell_type": "code",
   "execution_count": 1508,
   "metadata": {},
   "outputs": [],
   "source": [
    "important_features = important_features + ['time_skew', 'time_max', 'mean_pitch', 'MFCC2_mean']"
   ]
  },
  {
   "cell_type": "code",
   "execution_count": 1509,
   "metadata": {},
   "outputs": [
    {
     "name": "stdout",
     "output_type": "stream",
     "text": [
      "MFCC5_std        0.313383\n",
      "MFCC1_std        0.311292\n",
      "MFCC2_std        0.284386\n",
      "MFCC8_std        0.270458\n",
      "MFCC10_mean      0.260298\n",
      "MFCC13_std       0.258573\n",
      "MFCC12_median    0.252299\n",
      "MFCC12_mean      0.251471\n",
      "Chroma4_std      0.250014\n",
      "MFCC10_median    0.249804\n",
      "Name: age, dtype: float64\n"
     ]
    }
   ],
   "source": [
    "def find_top_features(df, important_features, max_correlation_with_important, first_n):\n",
    "  corr_matrix = df.corr()\n",
    "  \n",
    "  target_corr = np.abs(corr_matrix['age'].drop('age'))\n",
    "  \n",
    "  candidate_features = target_corr.drop(index=important_features, errors='ignore')\n",
    "  low_corr_candidates = []\n",
    "  for feature in candidate_features.index:\n",
    "    if all(abs(corr_matrix.loc[feature, imp_feature]) < max_correlation_with_important \n",
    "       for imp_feature in important_features if imp_feature in corr_matrix):\n",
    "      low_corr_candidates.append(feature)\n",
    "  \n",
    "  filtered_features = target_corr.loc[low_corr_candidates].sort_values(ascending=False).head(first_n)\n",
    "  \n",
    "  return filtered_features\n",
    "\n",
    "top_features = find_top_features(df_dropped, important_features=important_features, max_correlation_with_important=0.7, first_n=10)\n",
    "\n",
    "\n",
    "print(top_features)\n"
   ]
  },
  {
   "cell_type": "code",
   "execution_count": 1510,
   "metadata": {},
   "outputs": [
    {
     "name": "stdout",
     "output_type": "stream",
     "text": [
      "RMSE sul set di validation : 9.51398358671305\n"
     ]
    }
   ],
   "source": [
    "X = df_dropped.drop(columns=['age'])[important_features]\n",
    "y = df_dropped['age']\n",
    "\n",
    "feature_names = df_dropped.drop(columns='age').columns\n",
    "\n",
    "X_train_valid = X[train_valid_mask] # dev \n",
    "y_train_valid = y[train_valid_mask]\n",
    "\n",
    "X_test = X[~train_valid_mask] # evaluation\n",
    "\n",
    "X_train, X_valid, y_train, y_valid = train_test_split(X_train_valid, y_train_valid, test_size=0.2, random_state=42, shuffle=True)\n",
    "\n",
    "reg = RandomForestRegressor(random_state = 42, n_estimators=100)\n",
    "reg.fit(X_train, y_train)\n",
    "\n",
    "y_pred = reg.predict(X_valid)\n",
    "rmse_valid = root_mean_squared_error(y_valid, y_pred)\n",
    "print(f\"RMSE sul set di validation : {rmse_valid}\")"
   ]
  },
  {
   "cell_type": "code",
   "execution_count": 1511,
   "metadata": {},
   "outputs": [
    {
     "name": "stdout",
     "output_type": "stream",
     "text": [
      "-9.734374258367822\n"
     ]
    }
   ],
   "source": [
    "print(np.mean(cross_val_score(reg, X_valid, y_valid, cv=5, scoring='neg_root_mean_squared_error')))"
   ]
  },
  {
   "cell_type": "markdown",
   "metadata": {},
   "source": [
    "Here we can decide to iterate the process and add more features based on the correlation with the target variable and with the others in the important features.\n",
    "For now we decide to keep these and select these as the best features."
   ]
  },
  {
   "cell_type": "code",
   "execution_count": 1512,
   "metadata": {},
   "outputs": [],
   "source": [
    "best_features = important_features "
   ]
  },
  {
   "cell_type": "code",
   "execution_count": 1513,
   "metadata": {},
   "outputs": [
    {
     "data": {
      "text/plain": [
       "23"
      ]
     },
     "execution_count": 1513,
     "metadata": {},
     "output_type": "execute_result"
    }
   ],
   "source": [
    "len(best_features)"
   ]
  },
  {
   "cell_type": "code",
   "execution_count": 1514,
   "metadata": {},
   "outputs": [
    {
     "data": {
      "text/plain": [
       "['time_len',\n",
       " 'ethnicity_english',\n",
       " 'Chroma7_median',\n",
       " 'MFCC10_std',\n",
       " 'jitter',\n",
       " 'Chroma6_median',\n",
       " 'Chroma12_std',\n",
       " 'spectral_centroid_mean_x',\n",
       " 'MFCC7_median',\n",
       " 'Chroma6_std',\n",
       " 'MFCC6_mean',\n",
       " 'shimmer',\n",
       " 'ethnicity_igbo',\n",
       " 'ethnicity_spanish',\n",
       " 'ethnicity_arabic',\n",
       " 'ethnicity_korean',\n",
       " 'ethnicity_mandarin',\n",
       " 'ethnicity_french',\n",
       " 'ethnicity_Other',\n",
       " 'time_skew',\n",
       " 'time_max',\n",
       " 'mean_pitch',\n",
       " 'MFCC2_mean']"
      ]
     },
     "execution_count": 1514,
     "metadata": {},
     "output_type": "execute_result"
    }
   ],
   "source": [
    "best_features"
   ]
  },
  {
   "cell_type": "markdown",
   "metadata": {},
   "source": [
    "## 4. Grid search on the random forest hyperparameters"
   ]
  },
  {
   "cell_type": "markdown",
   "metadata": {},
   "source": [
    "### 1. Random forest regressor"
   ]
  },
  {
   "cell_type": "code",
   "execution_count": 1515,
   "metadata": {},
   "outputs": [],
   "source": [
    "# from sklearn.model_selection import GridSearchCV\n",
    "# param_grid = {\n",
    "#     'n_estimators': [500],  \n",
    "#     'max_depth': [10, 20, 30],     \n",
    "#     'min_samples_split': [2, 5, 6],          \n",
    "#     'min_samples_leaf': [2, 3, 4, 5],             \n",
    "#     'max_features': ['sqrt', 'log2'],  \n",
    "#     'random_state' : [42]\n",
    "# }\n",
    "\n",
    "# grid_search = GridSearchCV(estimator=RandomForestRegressor(), param_grid=param_grid, cv=5, scoring = 'neg_root_mean_squared_error', n_jobs=-1)\n",
    "# grid_search.fit(X_train, y_train)\n",
    "\n",
    "# print(f\"Migliori parametri: {grid_search.best_params_}\")"
   ]
  },
  {
   "cell_type": "code",
   "execution_count": 1516,
   "metadata": {},
   "outputs": [],
   "source": [
    "# best_random_forest = grid_search.best_estimator_\n",
    "# best_random_forest.fit(X_train, y_train)\n",
    "# y_predicted = best_random_forest.predict(X_valid)"
   ]
  },
  {
   "cell_type": "code",
   "execution_count": 1517,
   "metadata": {},
   "outputs": [],
   "source": [
    "# print(np.abs(np.mean(cross_val_score(best_random_forest, X_valid, y_valid, cv=5, scoring = 'neg_root_mean_squared_error)))\n",
    "# print(np.abs(cross_val_score(best_random_forest, X_valid, y_valid, cv=5, scoring = 'neg_root_mean_squared_error)))"
   ]
  },
  {
   "cell_type": "code",
   "execution_count": 1518,
   "metadata": {},
   "outputs": [],
   "source": [
    "# best_random_forest.fit(X_train_valid, y_train_valid)\n",
    "# y_predicted = best_random_forest.predict(X_test)"
   ]
  },
  {
   "cell_type": "markdown",
   "metadata": {},
   "source": [
    "We runned the grid_search one time and then saved the model in the 'models' directory, so we just need to load that."
   ]
  },
  {
   "cell_type": "code",
   "execution_count": 1519,
   "metadata": {},
   "outputs": [
    {
     "name": "stdout",
     "output_type": "stream",
     "text": [
      "Modello caricato da ../models/best_random_forest.pkl\n"
     ]
    }
   ],
   "source": [
    "import pickle\n",
    "\n",
    "def load_model(filename):\n",
    "  with open(filename, 'rb') as file:\n",
    "    model = pickle.load(file)\n",
    "  print(f\"Modello caricato da {filename}\")\n",
    "  return model\n",
    "\n",
    "filename = '../models/best_random_forest.pkl'\n",
    "best_random_forest = load_model(filename)"
   ]
  },
  {
   "cell_type": "code",
   "execution_count": 1520,
   "metadata": {},
   "outputs": [],
   "source": [
    "best_random_forest.fit(X_train, y_train)\n",
    "y_predicted = best_random_forest.predict(X_valid)"
   ]
  },
  {
   "cell_type": "code",
   "execution_count": 1521,
   "metadata": {},
   "outputs": [
    {
     "name": "stdout",
     "output_type": "stream",
     "text": [
      "[ -8.26483745  -9.16861336 -10.13672973 -11.76098489  -8.91969295]\n",
      "9.650171675502378\n"
     ]
    }
   ],
   "source": [
    "print(cross_val_score(best_random_forest, X_valid, y_valid, cv=5, scoring='neg_root_mean_squared_error'))\n",
    "print(np.abs(np.mean(cross_val_score(best_random_forest, X_valid, y_valid, cv=5, scoring='neg_root_mean_squared_error'))))"
   ]
  },
  {
   "cell_type": "code",
   "execution_count": 1522,
   "metadata": {},
   "outputs": [],
   "source": [
    "best_random_forest.fit(X_train_valid, y_train_valid)\n",
    "y_predicted = best_random_forest.predict(X_test)"
   ]
  },
  {
   "cell_type": "code",
   "execution_count": 1523,
   "metadata": {},
   "outputs": [],
   "source": [
    "# pd.DataFrame(y_predicted, index=df_eval.index).to_csv(\"../final_random_forest_FINALE.csv\",\n",
    "#                                                         index_label=\"Id\", header=[\"Predicted\"])"
   ]
  },
  {
   "cell_type": "code",
   "execution_count": 1524,
   "metadata": {},
   "outputs": [
    {
     "data": {
      "text/plain": [
       "[('time_len', 0.18126286080087275),\n",
       " ('time_skew', 0.07444441762282912),\n",
       " ('MFCC7_median', 0.06881611348638564),\n",
       " ('time_max', 0.058047083664812704),\n",
       " ('mean_pitch', 0.05781018415611342),\n",
       " ('ethnicity_igbo', 0.05367700809083466),\n",
       " ('jitter', 0.05273177523835021),\n",
       " ('MFCC2_mean', 0.051903827531298546),\n",
       " ('Chroma7_median', 0.05077618238147136),\n",
       " ('MFCC6_mean', 0.04988042946405828),\n",
       " ('Chroma6_median', 0.04971965301541469),\n",
       " ('spectral_centroid_mean_x', 0.04361982073713578),\n",
       " ('shimmer', 0.043129527726245766),\n",
       " ('MFCC10_std', 0.04279827344477933),\n",
       " ('Chroma6_std', 0.04071670889916952),\n",
       " ('Chroma12_std', 0.038876690296919175),\n",
       " ('ethnicity_english', 0.02896342784621796),\n",
       " ('ethnicity_Other', 0.007535926288657297),\n",
       " ('ethnicity_arabic', 0.002266521589881349),\n",
       " ('ethnicity_french', 0.0015478950129115508),\n",
       " ('ethnicity_korean', 0.0008073527838056419),\n",
       " ('ethnicity_mandarin', 0.0006683199218354084),\n",
       " ('ethnicity_spanish', 0.0)]"
      ]
     },
     "execution_count": 1524,
     "metadata": {},
     "output_type": "execute_result"
    }
   ],
   "source": [
    "sorted(zip(best_features, best_random_forest.feature_importances_), key= lambda x : x[1], reverse=True)"
   ]
  },
  {
   "cell_type": "markdown",
   "metadata": {},
   "source": [
    "Save random forest in the 'models' directory"
   ]
  },
  {
   "cell_type": "code",
   "execution_count": 1526,
   "metadata": {},
   "outputs": [],
   "source": [
    "\n",
    "# import pickle\n",
    "\n",
    "# with open('../models/best_random_forest.pkl', 'wb') as file:\n",
    "#     pickle.dump(best_random_forest, file)\n",
    "\n",
    "# print(\"Modello salvato come 'best_random_forest.pkl'\")\n"
   ]
  },
  {
   "cell_type": "markdown",
   "metadata": {},
   "source": [
    "### 2. Support vector regressor (SVR)"
   ]
  },
  {
   "cell_type": "markdown",
   "metadata": {},
   "source": [
    "The Support Vector Regressor (SVR) requires standardized data for optimal performance, as it is sensitive to the scale of the input features. Without standardization, features with larger ranges could dominate the model, leading to suboptimal results."
   ]
  },
  {
   "cell_type": "code",
   "execution_count": 1527,
   "metadata": {},
   "outputs": [
    {
     "name": "stdout",
     "output_type": "stream",
     "text": [
      "RMSE sul validation set: 10.4406\n"
     ]
    }
   ],
   "source": [
    "from sklearn.preprocessing import StandardScaler\n",
    "from sklearn.svm import SVR\n",
    "\n",
    "scaler = StandardScaler()\n",
    "X_train_scaled = scaler.fit_transform(X_train)\n",
    "X_valid_scaled = scaler.fit_transform(X_valid)\n",
    "\n",
    "rf = SVR()\n",
    "\n",
    "rf.fit(X_train_scaled, y_train)\n",
    "y_predicted = rf.predict(X_valid_scaled)\n",
    "\n",
    "rmse = root_mean_squared_error(y_valid, y_predicted)\n",
    "print(f\"RMSE sul validation set: {rmse:.4f}\")"
   ]
  },
  {
   "cell_type": "code",
   "execution_count": 1528,
   "metadata": {},
   "outputs": [
    {
     "name": "stdout",
     "output_type": "stream",
     "text": [
      "[ -9.22498249 -11.46612384 -11.16752062 -12.97807862 -11.41157328]\n",
      "-11.249655767711666\n"
     ]
    }
   ],
   "source": [
    "print(cross_val_score(rf, X_valid_scaled, y_valid, cv=5, scoring='neg_root_mean_squared_error'))\n",
    "print(np.mean(cross_val_score(rf, X_valid_scaled, y_valid, cv=5, scoring='neg_root_mean_squared_error')))"
   ]
  },
  {
   "cell_type": "code",
   "execution_count": null,
   "metadata": {},
   "outputs": [],
   "source": [
    "# from sklearn.model_selection import GridSearchCV\n",
    "# param_grid = {\n",
    "#     'kernel': ['linear', 'rbf', 'poly'],      \n",
    "#      'C': [0.1, 1, 5, 50, 100],                   \n",
    "#      'epsilon': [0.01, 0.1, 1, 5, 10],                \n",
    "#      'gamma': ['scale', 'auto', 0.1, 0.01]     \n",
    "#  }\n",
    "\n",
    " \n",
    "# grid_search_svr = GridSearchCV(estimator=rf, param_grid=param_grid, scoring='neg_root_mean_squared_error', \n",
    "#                              cv=5, n_jobs=-1)\n",
    "# grid_search_svr.fit(X_train_scaled, y_train)\n",
    "\n",
    "# # \n",
    "# best_params = grid_search_svr.best_params_\n",
    "# best_svr = grid_search_svr.best_estimator_\n",
    "\n",
    "\n",
    "# y_pred = best_svr.predict(X_valid_scaled)\n",
    "# best_rmse = root_mean_squared_error(y_valid, y_pred)\n",
    "# best_rmse"
   ]
  },
  {
   "cell_type": "code",
   "execution_count": null,
   "metadata": {},
   "outputs": [],
   "source": [
    "# import pickle\n",
    "\n",
    "# with open('../models/best_svr.pkl', 'wb') as file:\n",
    "#  pickle.dump(best_svr, file)\n",
    "\n",
    "# print(\"Modello salvato come 'best_svr.pkl'\")"
   ]
  },
  {
   "cell_type": "code",
   "execution_count": null,
   "metadata": {},
   "outputs": [],
   "source": [
    "# scaler_train_valid = StandardScaler()\n",
    "# X_train_valid_scaled = scaler_train_valid.fit_transform(X_train_valid)\n",
    "# X_test_scaled = scaler.transform(X_test)"
   ]
  },
  {
   "cell_type": "code",
   "execution_count": 1530,
   "metadata": {},
   "outputs": [
    {
     "name": "stdout",
     "output_type": "stream",
     "text": [
      "Modello caricato da ../models/best_svr.pkl\n"
     ]
    }
   ],
   "source": [
    "import pickle\n",
    "\n",
    "def load_model(filename):\n",
    "    with open(filename, 'rb') as file:\n",
    "        model = pickle.load(file)\n",
    "    print(f\"Modello caricato da {filename}\")\n",
    "    return model\n",
    "\n",
    "# Esempio di utilizzo\n",
    "filename = '../models/best_svr.pkl'\n",
    "best_svr = load_model(filename)"
   ]
  },
  {
   "cell_type": "code",
   "execution_count": 1531,
   "metadata": {},
   "outputs": [
    {
     "name": "stderr",
     "output_type": "stream",
     "text": [
      "/opt/anaconda3/lib/python3.12/site-packages/sklearn/base.py:486: UserWarning: X has feature names, but SVR was fitted without feature names\n",
      "  warnings.warn(\n"
     ]
    },
    {
     "data": {
      "text/plain": [
       "13.71879189833424"
      ]
     },
     "execution_count": 1531,
     "metadata": {},
     "output_type": "execute_result"
    }
   ],
   "source": [
    "best_svr.fit(X_train_scaled, y_train)\n",
    "root_mean_squared_error(y_valid, best_svr.predict(X_valid))"
   ]
  },
  {
   "cell_type": "code",
   "execution_count": 1532,
   "metadata": {},
   "outputs": [
    {
     "name": "stdout",
     "output_type": "stream",
     "text": [
      "[ -8.65038005  -9.42862666 -10.22438377 -11.59504683  -9.03818701]\n",
      "-9.78732486628989\n"
     ]
    }
   ],
   "source": [
    "print(cross_val_score(best_svr, X_valid_scaled, y_valid, cv=5, scoring='neg_root_mean_squared_error'))\n",
    "print(np.mean(cross_val_score(best_svr, X_valid_scaled, y_valid, cv=5, scoring='neg_root_mean_squared_error')))"
   ]
  },
  {
   "cell_type": "code",
   "execution_count": 1533,
   "metadata": {},
   "outputs": [],
   "source": [
    "scaler_train_valid = StandardScaler()\n",
    "X_train_valid_scaled = scaler_train_valid.fit_transform(X_train_valid)\n",
    "X_test_scaled = scaler.transform(X_test)"
   ]
  },
  {
   "cell_type": "code",
   "execution_count": 1534,
   "metadata": {},
   "outputs": [],
   "source": [
    "best_svr.fit(X_train_valid_scaled, y_train_valid)\n",
    "y_predicted = best_svr.predict(X_test_scaled)"
   ]
  },
  {
   "cell_type": "code",
   "execution_count": 1535,
   "metadata": {},
   "outputs": [],
   "source": [
    "pd.DataFrame(y_predicted, index=df_eval.index).to_csv(\"../submissions/final_svr_FINALE.csv\",\n",
    "                                                        index_label=\"Id\", header=[\"Predicted\"])"
   ]
  },
  {
   "cell_type": "code",
   "execution_count": 1536,
   "metadata": {},
   "outputs": [
    {
     "data": {
      "text/plain": [
       "[('time_len', 0.3385906009858684),\n",
       " ('Chroma7_median', 0.05848141464865486),\n",
       " ('MFCC6_mean', 0.050934242750108494),\n",
       " ('MFCC7_median', 0.04862944851923322),\n",
       " ('MFCC10_std', 0.04777174535779924),\n",
       " ('jitter', 0.04600474637037938),\n",
       " ('Chroma12_std', 0.04540861838700852),\n",
       " ('ethnicity_english', 0.04317571336291215),\n",
       " ('Chroma6_median', 0.04170779971211331),\n",
       " ('MFCC2_mean', 0.04149108434211958),\n",
       " ('spectral_centroid_mean_x', 0.04130988222347377),\n",
       " ('Chroma6_std', 0.04110248857614554),\n",
       " ('time_skew', 0.038608817947152214),\n",
       " ('mean_pitch', 0.03828550863056906),\n",
       " ('shimmer', 0.036339998791329486),\n",
       " ('time_max', 0.03355861653902973),\n",
       " ('ethnicity_Other', 0.003889886273340308),\n",
       " ('ethnicity_french', 0.0014745186588877234),\n",
       " ('ethnicity_korean', 0.0012030829402580048),\n",
       " ('ethnicity_arabic', 0.0009512097865767499),\n",
       " ('ethnicity_mandarin', 0.0007033782360920085),\n",
       " ('ethnicity_igbo', 0.0003771969609483192),\n",
       " ('ethnicity_spanish', 0.0)]"
      ]
     },
     "execution_count": 1536,
     "metadata": {},
     "output_type": "execute_result"
    }
   ],
   "source": [
    "sorted(zip(best_features, reg.feature_importances_), key= lambda x : x[1], reverse=True)"
   ]
  },
  {
   "cell_type": "markdown",
   "metadata": {},
   "source": [
    "## 5. Naive solution"
   ]
  },
  {
   "cell_type": "code",
   "execution_count": 1537,
   "metadata": {},
   "outputs": [],
   "source": [
    "df_dev = pd.read_csv('/Users/fabiodepetro/DSL_Project/ProvaProgetto/DSL_Winter_Project_2025/development.csv')\n",
    "df_eval = pd.read_csv('/Users/fabiodepetro/DSL_Project/ProvaProgetto/DSL_Winter_Project_2025/evaluation.csv')"
   ]
  },
  {
   "cell_type": "code",
   "execution_count": 1538,
   "metadata": {},
   "outputs": [],
   "source": [
    "df_naive_sol = pd.concat([df_dev, df_eval], axis=0)"
   ]
  },
  {
   "cell_type": "code",
   "execution_count": 1539,
   "metadata": {},
   "outputs": [],
   "source": [
    "def extract_6_digits(s):\n",
    "  s = s.replace('[', \"\") \n",
    "  parts = s.split('.')\n",
    "  decimale = parts[1][:6] \n",
    "  return float(parts[0] + '.' + decimale)\n",
    "\n",
    "\n",
    "df_naive_sol['tempo'] = df_naive_sol['tempo'].apply(extract_6_digits)\n",
    "df_naive_sol['tempo'] = pd.to_numeric(df['tempo'])\n",
    "df_naive_sol['tempo'] = df_naive_sol['tempo'] / 60 # convert in beats per second"
   ]
  },
  {
   "cell_type": "code",
   "execution_count": 1540,
   "metadata": {},
   "outputs": [],
   "source": [
    "df_naive_sol.loc[(df_naive_sol['gender']!='male') & (df_naive_sol['gender'] != 'female'), 'gender'] = 'female'\n",
    "df_naive_sol_1h_gender = pd.get_dummies(df_naive_sol, columns=['gender'])"
   ]
  },
  {
   "cell_type": "code",
   "execution_count": 1541,
   "metadata": {},
   "outputs": [],
   "source": [
    "df_naive_sol_1h = pd.get_dummies(df_naive_sol_1h_gender, columns=['ethnicity'])"
   ]
  },
  {
   "cell_type": "code",
   "execution_count": 1542,
   "metadata": {},
   "outputs": [],
   "source": [
    "df_dropped_naive_sol = df_naive_sol_1h.drop(columns=['Id', 'sampling_rate', 'path'])"
   ]
  },
  {
   "cell_type": "code",
   "execution_count": 1543,
   "metadata": {},
   "outputs": [
    {
     "data": {
      "text/plain": [
       "(3624, 23)"
      ]
     },
     "execution_count": 1543,
     "metadata": {},
     "output_type": "execute_result"
    }
   ],
   "source": [
    "X.shape"
   ]
  },
  {
   "cell_type": "code",
   "execution_count": 1544,
   "metadata": {},
   "outputs": [
    {
     "name": "stdout",
     "output_type": "stream",
     "text": [
      "RMSE sul set di validation : 10.004722298538267\n"
     ]
    }
   ],
   "source": [
    "train_valid_mask_naive_sol = ~df_dropped_naive_sol['age'].isna()\n",
    "\n",
    "X = df_dropped_naive_sol.drop(columns=['age']).values\n",
    "y = df_dropped_naive_sol['age'].values\n",
    "\n",
    "\n",
    "feature_names = df_dropped_naive_sol.drop(columns='age').columns\n",
    "\n",
    "X_train_valid_naive_sol = X[train_valid_mask_naive_sol] # dev \n",
    "y_train_valid_naive_sol = y[train_valid_mask_naive_sol]\n",
    "\n",
    "X_test_naive_sol = X[~train_valid_mask_naive_sol]\n",
    "# Divisione train e valid\n",
    "X_train_naive_sol, X_valid_naive_sol, y_train_naive_sol, y_valid_naive_sol = train_test_split(X_train_valid_naive_sol, y_train_valid_naive_sol, test_size=0.2, random_state=42, shuffle=True)\n",
    "\n",
    "# Training del modello\n",
    "reg = RandomForestRegressor(random_state = 42, n_estimators=100)\n",
    "reg.fit(X_train_naive_sol, y_train_naive_sol)\n",
    "\n",
    "y_pred = reg.predict(X_valid_naive_sol)\n",
    "rmse_valid = root_mean_squared_error(y_valid_naive_sol, y_pred)\n",
    "print(f\"RMSE sul set di validation : {rmse_valid}\")"
   ]
  },
  {
   "cell_type": "code",
   "execution_count": 1545,
   "metadata": {},
   "outputs": [
    {
     "name": "stdout",
     "output_type": "stream",
     "text": [
      "9.705996173092972\n"
     ]
    }
   ],
   "source": [
    "from sklearn.model_selection import train_test_split, cross_val_score\n",
    "from sklearn.ensemble import RandomForestRegressor\n",
    "from sklearn.metrics import root_mean_squared_error\n",
    "\n",
    "train_valid_mask = ~df_dropped['age'].isna()\n",
    "\n",
    "X = df_dropped.drop(columns=['age']).values\n",
    "y = df_dropped['age'].values\n",
    "\n",
    "\n",
    "X_train_valid = X[train_valid_mask]\n",
    "y_train_valid = y[train_valid_mask]\n",
    "\n",
    "X_test = X[~train_valid_mask]\n",
    "\n",
    "\n",
    "X_train, X_valid, y_train, y_valid = train_test_split(X_train_valid, y_train_valid, test_size=0.2, random_state=42)\n",
    "reg = RandomForestRegressor(n_estimators=100, random_state=42)\n",
    "reg.fit(X_train, y_train)\n",
    "y_pred = reg.predict(X_valid)\n",
    "\n",
    "print(root_mean_squared_error(y_valid, y_pred))"
   ]
  },
  {
   "cell_type": "code",
   "execution_count": 1546,
   "metadata": {},
   "outputs": [
    {
     "name": "stdout",
     "output_type": "stream",
     "text": [
      "[ -9.27101299 -10.56764763 -11.06023312 -12.53674391 -10.0434235 ]\n",
      "-10.69581222874536\n"
     ]
    }
   ],
   "source": [
    "print(cross_val_score(reg, X_valid_naive_sol, y_valid_naive_sol, cv=5, scoring='neg_root_mean_squared_error'))\n",
    "print(np.mean(cross_val_score(reg, X_valid_naive_sol, y_valid_naive_sol, cv=5, scoring='neg_root_mean_squared_error')))"
   ]
  },
  {
   "cell_type": "code",
   "execution_count": 1547,
   "metadata": {},
   "outputs": [],
   "source": [
    "# reg.fit(X_train_valid_naive_sol, y_train_valid_naive_sol)\n",
    "# y_predicted_naive_sol = reg.predict(X_test_naive_sol)\n",
    "# pd.DataFrame(y_predicted_naive_sol, index=df_eval.index).to_csv(\"../submissions/naive_solution.csv\",\n",
    "#                                                        index_label=\"Id\", header=[\"Predicted\"])"
   ]
  }
 ],
 "metadata": {
  "kernelspec": {
   "display_name": "base",
   "language": "python",
   "name": "python3"
  },
  "language_info": {
   "codemirror_mode": {
    "name": "ipython",
    "version": 3
   },
   "file_extension": ".py",
   "mimetype": "text/x-python",
   "name": "python",
   "nbconvert_exporter": "python",
   "pygments_lexer": "ipython3",
   "version": "3.12.2"
  }
 },
 "nbformat": 4,
 "nbformat_minor": 2
}
